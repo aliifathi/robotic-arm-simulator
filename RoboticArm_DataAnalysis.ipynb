{
 "cells": [
  {
   "cell_type": "markdown",
   "id": "f79c366f",
   "metadata": {},
   "source": [
    "# Robotic Arm Simulator - Data Analysis\n",
    "*Generated on 2025-06-01 18:08:45*\n",
    "\n",
    "This notebook analyzes interaction and performance data from the robotic arm simulator."
   ]
  },
  {
   "cell_type": "code",
   "execution_count": 1,
   "id": "659145d1",
   "metadata": {},
   "outputs": [],
   "source": [
    "import pandas as pd\n",
    "import matplotlib.pyplot as plt\n",
    "import seaborn as sns\n",
    "import numpy as np\n",
    "from datetime import datetime\n",
    "sns.set(style='whitegrid')"
   ]
  },
  {
   "cell_type": "code",
   "execution_count": 4,
   "id": "2da70b12",
   "metadata": {},
   "outputs": [
    {
     "ename": "ParserError",
     "evalue": "Error tokenizing data. C error: Expected 5 fields in line 8, saw 9\n",
     "output_type": "error",
     "traceback": [
      "\u001b[31m---------------------------------------------------------------------------\u001b[39m",
      "\u001b[31mParserError\u001b[39m                               Traceback (most recent call last)",
      "\u001b[36mCell\u001b[39m\u001b[36m \u001b[39m\u001b[32mIn[4]\u001b[39m\u001b[32m, line 2\u001b[39m\n\u001b[32m      1\u001b[39m file_path = \u001b[33m'\u001b[39m\u001b[33m/Users/alifathi/Desktop/Spring/robotic-arm-simulator/results.csv\u001b[39m\u001b[33m'\u001b[39m\n\u001b[32m----> \u001b[39m\u001b[32m2\u001b[39m df = \u001b[43mpd\u001b[49m\u001b[43m.\u001b[49m\u001b[43mread_csv\u001b[49m\u001b[43m(\u001b[49m\u001b[43mfile_path\u001b[49m\u001b[43m)\u001b[49m\n\u001b[32m      3\u001b[39m df.head()\n",
      "\u001b[36mFile \u001b[39m\u001b[32m/Library/Frameworks/Python.framework/Versions/3.12/lib/python3.12/site-packages/pandas/io/parsers/readers.py:1026\u001b[39m, in \u001b[36mread_csv\u001b[39m\u001b[34m(filepath_or_buffer, sep, delimiter, header, names, index_col, usecols, dtype, engine, converters, true_values, false_values, skipinitialspace, skiprows, skipfooter, nrows, na_values, keep_default_na, na_filter, verbose, skip_blank_lines, parse_dates, infer_datetime_format, keep_date_col, date_parser, date_format, dayfirst, cache_dates, iterator, chunksize, compression, thousands, decimal, lineterminator, quotechar, quoting, doublequote, escapechar, comment, encoding, encoding_errors, dialect, on_bad_lines, delim_whitespace, low_memory, memory_map, float_precision, storage_options, dtype_backend)\u001b[39m\n\u001b[32m   1013\u001b[39m kwds_defaults = _refine_defaults_read(\n\u001b[32m   1014\u001b[39m     dialect,\n\u001b[32m   1015\u001b[39m     delimiter,\n\u001b[32m   (...)\u001b[39m\u001b[32m   1022\u001b[39m     dtype_backend=dtype_backend,\n\u001b[32m   1023\u001b[39m )\n\u001b[32m   1024\u001b[39m kwds.update(kwds_defaults)\n\u001b[32m-> \u001b[39m\u001b[32m1026\u001b[39m \u001b[38;5;28;01mreturn\u001b[39;00m \u001b[43m_read\u001b[49m\u001b[43m(\u001b[49m\u001b[43mfilepath_or_buffer\u001b[49m\u001b[43m,\u001b[49m\u001b[43m \u001b[49m\u001b[43mkwds\u001b[49m\u001b[43m)\u001b[49m\n",
      "\u001b[36mFile \u001b[39m\u001b[32m/Library/Frameworks/Python.framework/Versions/3.12/lib/python3.12/site-packages/pandas/io/parsers/readers.py:626\u001b[39m, in \u001b[36m_read\u001b[39m\u001b[34m(filepath_or_buffer, kwds)\u001b[39m\n\u001b[32m    623\u001b[39m     \u001b[38;5;28;01mreturn\u001b[39;00m parser\n\u001b[32m    625\u001b[39m \u001b[38;5;28;01mwith\u001b[39;00m parser:\n\u001b[32m--> \u001b[39m\u001b[32m626\u001b[39m     \u001b[38;5;28;01mreturn\u001b[39;00m \u001b[43mparser\u001b[49m\u001b[43m.\u001b[49m\u001b[43mread\u001b[49m\u001b[43m(\u001b[49m\u001b[43mnrows\u001b[49m\u001b[43m)\u001b[49m\n",
      "\u001b[36mFile \u001b[39m\u001b[32m/Library/Frameworks/Python.framework/Versions/3.12/lib/python3.12/site-packages/pandas/io/parsers/readers.py:1923\u001b[39m, in \u001b[36mTextFileReader.read\u001b[39m\u001b[34m(self, nrows)\u001b[39m\n\u001b[32m   1916\u001b[39m nrows = validate_integer(\u001b[33m\"\u001b[39m\u001b[33mnrows\u001b[39m\u001b[33m\"\u001b[39m, nrows)\n\u001b[32m   1917\u001b[39m \u001b[38;5;28;01mtry\u001b[39;00m:\n\u001b[32m   1918\u001b[39m     \u001b[38;5;66;03m# error: \"ParserBase\" has no attribute \"read\"\u001b[39;00m\n\u001b[32m   1919\u001b[39m     (\n\u001b[32m   1920\u001b[39m         index,\n\u001b[32m   1921\u001b[39m         columns,\n\u001b[32m   1922\u001b[39m         col_dict,\n\u001b[32m-> \u001b[39m\u001b[32m1923\u001b[39m     ) = \u001b[38;5;28;43mself\u001b[39;49m\u001b[43m.\u001b[49m\u001b[43m_engine\u001b[49m\u001b[43m.\u001b[49m\u001b[43mread\u001b[49m\u001b[43m(\u001b[49m\u001b[43m  \u001b[49m\u001b[38;5;66;43;03m# type: ignore[attr-defined]\u001b[39;49;00m\n\u001b[32m   1924\u001b[39m \u001b[43m        \u001b[49m\u001b[43mnrows\u001b[49m\n\u001b[32m   1925\u001b[39m \u001b[43m    \u001b[49m\u001b[43m)\u001b[49m\n\u001b[32m   1926\u001b[39m \u001b[38;5;28;01mexcept\u001b[39;00m \u001b[38;5;167;01mException\u001b[39;00m:\n\u001b[32m   1927\u001b[39m     \u001b[38;5;28mself\u001b[39m.close()\n",
      "\u001b[36mFile \u001b[39m\u001b[32m/Library/Frameworks/Python.framework/Versions/3.12/lib/python3.12/site-packages/pandas/io/parsers/c_parser_wrapper.py:234\u001b[39m, in \u001b[36mCParserWrapper.read\u001b[39m\u001b[34m(self, nrows)\u001b[39m\n\u001b[32m    232\u001b[39m \u001b[38;5;28;01mtry\u001b[39;00m:\n\u001b[32m    233\u001b[39m     \u001b[38;5;28;01mif\u001b[39;00m \u001b[38;5;28mself\u001b[39m.low_memory:\n\u001b[32m--> \u001b[39m\u001b[32m234\u001b[39m         chunks = \u001b[38;5;28;43mself\u001b[39;49m\u001b[43m.\u001b[49m\u001b[43m_reader\u001b[49m\u001b[43m.\u001b[49m\u001b[43mread_low_memory\u001b[49m\u001b[43m(\u001b[49m\u001b[43mnrows\u001b[49m\u001b[43m)\u001b[49m\n\u001b[32m    235\u001b[39m         \u001b[38;5;66;03m# destructive to chunks\u001b[39;00m\n\u001b[32m    236\u001b[39m         data = _concatenate_chunks(chunks)\n",
      "\u001b[36mFile \u001b[39m\u001b[32mparsers.pyx:838\u001b[39m, in \u001b[36mpandas._libs.parsers.TextReader.read_low_memory\u001b[39m\u001b[34m()\u001b[39m\n",
      "\u001b[36mFile \u001b[39m\u001b[32mparsers.pyx:905\u001b[39m, in \u001b[36mpandas._libs.parsers.TextReader._read_rows\u001b[39m\u001b[34m()\u001b[39m\n",
      "\u001b[36mFile \u001b[39m\u001b[32mparsers.pyx:874\u001b[39m, in \u001b[36mpandas._libs.parsers.TextReader._tokenize_rows\u001b[39m\u001b[34m()\u001b[39m\n",
      "\u001b[36mFile \u001b[39m\u001b[32mparsers.pyx:891\u001b[39m, in \u001b[36mpandas._libs.parsers.TextReader._check_tokenize_status\u001b[39m\u001b[34m()\u001b[39m\n",
      "\u001b[36mFile \u001b[39m\u001b[32mparsers.pyx:2061\u001b[39m, in \u001b[36mpandas._libs.parsers.raise_parser_error\u001b[39m\u001b[34m()\u001b[39m\n",
      "\u001b[31mParserError\u001b[39m: Error tokenizing data. C error: Expected 5 fields in line 8, saw 9\n"
     ]
    }
   ],
   "source": [
    "file_path = '/Users/alifathi/Desktop/Spring/robotic-arm-simulator/results.csv'\n",
    "df = pd.read_csv(file_path)\n",
    "df.head()"
   ]
  },
  {
   "cell_type": "code",
   "execution_count": 7,
   "id": "5ba5ec87",
   "metadata": {},
   "outputs": [
    {
     "name": "stdout",
     "output_type": "stream",
     "text": [
      "Skipping malformed row 72: Given date string \"12.0\" not likely a datetime, at position 0 → ['12.0', '2.0', '-77.05', '173.03', 'True', '2025-06-01T11:20:20.058868', 'Form', '0.03', '0.0']\n",
      "Skipping malformed row 73: Given date string \"12.0\" not likely a datetime, at position 0 → ['12.0', '2.0', '-77.05', '173.03', 'True', '2025-06-01T11:20:28.062686', 'Form', '0.03', '0.0']\n",
      "Skipping malformed row 74: Given date string \"50.0\" not likely a datetime, at position 0 → ['50.0', '6.0', '-68.57', '150.83', 'True', '2025-06-01T11:20:37.882785', 'Form', '0.01', '0.0']\n"
     ]
    },
    {
     "data": {
      "text/html": [
       "<div>\n",
       "<style scoped>\n",
       "    .dataframe tbody tr th:only-of-type {\n",
       "        vertical-align: middle;\n",
       "    }\n",
       "\n",
       "    .dataframe tbody tr th {\n",
       "        vertical-align: top;\n",
       "    }\n",
       "\n",
       "    .dataframe thead th {\n",
       "        text-align: right;\n",
       "    }\n",
       "</style>\n",
       "<table border=\"1\" class=\"dataframe\">\n",
       "  <thead>\n",
       "    <tr style=\"text-align: right;\">\n",
       "      <th></th>\n",
       "      <th>Timestamp</th>\n",
       "      <th>X</th>\n",
       "      <th>Y</th>\n",
       "      <th>Theta1</th>\n",
       "      <th>Theta2</th>\n",
       "      <th>Mode</th>\n",
       "      <th>ErrorX</th>\n",
       "      <th>ErrorY</th>\n",
       "      <th>Success</th>\n",
       "    </tr>\n",
       "  </thead>\n",
       "  <tbody>\n",
       "    <tr>\n",
       "      <th>0</th>\n",
       "      <td>2025-06-01 10:44:18.235260</td>\n",
       "      <td>14.0</td>\n",
       "      <td>40.0</td>\n",
       "      <td>-7.06</td>\n",
       "      <td>155.53</td>\n",
       "      <td>Form</td>\n",
       "      <td>0.0</td>\n",
       "      <td>0.0</td>\n",
       "      <td>True</td>\n",
       "    </tr>\n",
       "    <tr>\n",
       "      <th>1</th>\n",
       "      <td>2025-06-01 10:44:26.165774</td>\n",
       "      <td>45.0</td>\n",
       "      <td>35.5</td>\n",
       "      <td>-35.08</td>\n",
       "      <td>146.69</td>\n",
       "      <td>Form</td>\n",
       "      <td>0.0</td>\n",
       "      <td>0.0</td>\n",
       "      <td>True</td>\n",
       "    </tr>\n",
       "    <tr>\n",
       "      <th>2</th>\n",
       "      <td>2025-06-01 10:44:31.000593</td>\n",
       "      <td>12.0</td>\n",
       "      <td>-10.0</td>\n",
       "      <td>-125.33</td>\n",
       "      <td>171.04</td>\n",
       "      <td>Form</td>\n",
       "      <td>0.0</td>\n",
       "      <td>0.0</td>\n",
       "      <td>True</td>\n",
       "    </tr>\n",
       "    <tr>\n",
       "      <th>3</th>\n",
       "      <td>2025-06-01 10:44:35.933653</td>\n",
       "      <td>-10.0</td>\n",
       "      <td>12.0</td>\n",
       "      <td>44.29</td>\n",
       "      <td>171.04</td>\n",
       "      <td>Form</td>\n",
       "      <td>0.0</td>\n",
       "      <td>0.0</td>\n",
       "      <td>True</td>\n",
       "    </tr>\n",
       "    <tr>\n",
       "      <th>4</th>\n",
       "      <td>2025-06-01 10:44:43.648041</td>\n",
       "      <td>54.0</td>\n",
       "      <td>-87.0</td>\n",
       "      <td>-117.38</td>\n",
       "      <td>118.41</td>\n",
       "      <td>Form</td>\n",
       "      <td>0.0</td>\n",
       "      <td>0.0</td>\n",
       "      <td>True</td>\n",
       "    </tr>\n",
       "  </tbody>\n",
       "</table>\n",
       "</div>"
      ],
      "text/plain": [
       "                   Timestamp     X     Y  Theta1  Theta2  Mode  ErrorX  \\\n",
       "0 2025-06-01 10:44:18.235260  14.0  40.0   -7.06  155.53  Form     0.0   \n",
       "1 2025-06-01 10:44:26.165774  45.0  35.5  -35.08  146.69  Form     0.0   \n",
       "2 2025-06-01 10:44:31.000593  12.0 -10.0 -125.33  171.04  Form     0.0   \n",
       "3 2025-06-01 10:44:35.933653 -10.0  12.0   44.29  171.04  Form     0.0   \n",
       "4 2025-06-01 10:44:43.648041  54.0 -87.0 -117.38  118.41  Form     0.0   \n",
       "\n",
       "   ErrorY  Success  \n",
       "0     0.0     True  \n",
       "1     0.0     True  \n",
       "2     0.0     True  \n",
       "3     0.0     True  \n",
       "4     0.0     True  "
      ]
     },
     "execution_count": 7,
     "metadata": {},
     "output_type": "execute_result"
    }
   ],
   "source": [
    "import pandas as pd\n",
    "\n",
    "file_path = '/Users/alifathi/Desktop/Spring/robotic-arm-simulator/results.csv'\n",
    "\n",
    "rich_rows = []\n",
    "\n",
    "with open(file_path, 'r') as f:\n",
    "    lines = f.readlines()\n",
    "\n",
    "for i, line in enumerate(lines[1:]):  # skip header\n",
    "    parts = line.strip().split(',')\n",
    "    if len(parts) == 9:\n",
    "        try:\n",
    "            ts, x, y, theta1, theta2, mode, errx, erry, success = parts\n",
    "            rich_rows.append({\n",
    "                'Timestamp': pd.to_datetime(ts),\n",
    "                'X': float(x),\n",
    "                'Y': float(y),\n",
    "                'Theta1': float(theta1),\n",
    "                'Theta2': float(theta2),\n",
    "                'Mode': mode,\n",
    "                'ErrorX': float(errx),\n",
    "                'ErrorY': float(erry),\n",
    "                'Success': success == 'True'\n",
    "            })\n",
    "        except ValueError as e:\n",
    "            print(f\"Skipping malformed row {i+2}: {e} → {parts}\")\n",
    "\n",
    "# Create DataFrame from fully detailed rows only\n",
    "df_full = pd.DataFrame(rich_rows)\n",
    "\n",
    "# Display preview\n",
    "df_full.head()\n",
    "\n"
   ]
  },
  {
   "cell_type": "code",
   "execution_count": 8,
   "id": "5e3ecfe4",
   "metadata": {},
   "outputs": [],
   "source": [
    "# Convert Timestamp column if available\n",
    "if 'Timestamp' in df.columns:\n",
    "    df['Timestamp'] = pd.to_datetime(df['Timestamp'])\n",
    "    df['Date'] = df['Timestamp'].dt.date"
   ]
  },
  {
   "cell_type": "code",
   "execution_count": 9,
   "id": "035f6c81",
   "metadata": {},
   "outputs": [
    {
     "data": {
      "text/html": [
       "<div>\n",
       "<style scoped>\n",
       "    .dataframe tbody tr th:only-of-type {\n",
       "        vertical-align: middle;\n",
       "    }\n",
       "\n",
       "    .dataframe tbody tr th {\n",
       "        vertical-align: top;\n",
       "    }\n",
       "\n",
       "    .dataframe thead th {\n",
       "        text-align: right;\n",
       "    }\n",
       "</style>\n",
       "<table border=\"1\" class=\"dataframe\">\n",
       "  <thead>\n",
       "    <tr style=\"text-align: right;\">\n",
       "      <th></th>\n",
       "      <th>Timestamp</th>\n",
       "      <th>X</th>\n",
       "      <th>Y</th>\n",
       "      <th>Theta1</th>\n",
       "      <th>Theta2</th>\n",
       "      <th>Mode</th>\n",
       "      <th>ErrorX</th>\n",
       "      <th>ErrorY</th>\n",
       "      <th>Success</th>\n",
       "      <th>Date</th>\n",
       "      <th>DistanceError</th>\n",
       "    </tr>\n",
       "  </thead>\n",
       "  <tbody>\n",
       "    <tr>\n",
       "      <th>0</th>\n",
       "      <td>NaT</td>\n",
       "      <td>99.0</td>\n",
       "      <td>40.0</td>\n",
       "      <td>-35.73</td>\n",
       "      <td>115.46</td>\n",
       "      <td>None</td>\n",
       "      <td>NaN</td>\n",
       "      <td>NaN</td>\n",
       "      <td>True</td>\n",
       "      <td>NaT</td>\n",
       "      <td>0.006604</td>\n",
       "    </tr>\n",
       "    <tr>\n",
       "      <th>1</th>\n",
       "      <td>NaT</td>\n",
       "      <td>20.0</td>\n",
       "      <td>40.0</td>\n",
       "      <td>-13.64</td>\n",
       "      <td>154.16</td>\n",
       "      <td>None</td>\n",
       "      <td>NaN</td>\n",
       "      <td>NaN</td>\n",
       "      <td>True</td>\n",
       "      <td>NaT</td>\n",
       "      <td>0.005134</td>\n",
       "    </tr>\n",
       "    <tr>\n",
       "      <th>2</th>\n",
       "      <td>NaT</td>\n",
       "      <td>60.0</td>\n",
       "      <td>70.0</td>\n",
       "      <td>-13.15</td>\n",
       "      <td>125.10</td>\n",
       "      <td>None</td>\n",
       "      <td>NaN</td>\n",
       "      <td>NaN</td>\n",
       "      <td>True</td>\n",
       "      <td>NaT</td>\n",
       "      <td>0.002160</td>\n",
       "    </tr>\n",
       "    <tr>\n",
       "      <th>3</th>\n",
       "      <td>NaT</td>\n",
       "      <td>100.0</td>\n",
       "      <td>100.0</td>\n",
       "      <td>0.00</td>\n",
       "      <td>90.00</td>\n",
       "      <td>None</td>\n",
       "      <td>NaN</td>\n",
       "      <td>NaN</td>\n",
       "      <td>True</td>\n",
       "      <td>NaT</td>\n",
       "      <td>0.000000</td>\n",
       "    </tr>\n",
       "    <tr>\n",
       "      <th>4</th>\n",
       "      <td>NaT</td>\n",
       "      <td>20.0</td>\n",
       "      <td>10.0</td>\n",
       "      <td>-57.02</td>\n",
       "      <td>167.16</td>\n",
       "      <td>None</td>\n",
       "      <td>NaN</td>\n",
       "      <td>NaN</td>\n",
       "      <td>True</td>\n",
       "      <td>NaT</td>\n",
       "      <td>0.003171</td>\n",
       "    </tr>\n",
       "  </tbody>\n",
       "</table>\n",
       "</div>"
      ],
      "text/plain": [
       "  Timestamp      X      Y  Theta1  Theta2  Mode  ErrorX  ErrorY  Success Date  \\\n",
       "0       NaT   99.0   40.0  -35.73  115.46  None     NaN     NaN     True  NaT   \n",
       "1       NaT   20.0   40.0  -13.64  154.16  None     NaN     NaN     True  NaT   \n",
       "2       NaT   60.0   70.0  -13.15  125.10  None     NaN     NaN     True  NaT   \n",
       "3       NaT  100.0  100.0    0.00   90.00  None     NaN     NaN     True  NaT   \n",
       "4       NaT   20.0   10.0  -57.02  167.16  None     NaN     NaN     True  NaT   \n",
       "\n",
       "   DistanceError  \n",
       "0       0.006604  \n",
       "1       0.005134  \n",
       "2       0.002160  \n",
       "3       0.000000  \n",
       "4       0.003171  "
      ]
     },
     "execution_count": 9,
     "metadata": {},
     "output_type": "execute_result"
    }
   ],
   "source": [
    "# Calculate DistanceError if not present\n",
    "if 'DistanceError' not in df.columns and {'X', 'Y', 'Theta1', 'Theta2'}.issubset(df.columns):\n",
    "    L1 = L2 = 100  # arm lengths\n",
    "    theta1_rad = np.radians(df['Theta1'])\n",
    "    theta2_rad = np.radians(df['Theta2'])\n",
    "    x_pred = L1 * np.cos(theta1_rad) + L2 * np.cos(theta1_rad + theta2_rad)\n",
    "    y_pred = L1 * np.sin(theta1_rad) + L2 * np.sin(theta1_rad + theta2_rad)\n",
    "    df['DistanceError'] = np.sqrt((df['X'] - x_pred)**2 + (df['Y'] - y_pred)**2)\n",
    "df.head()"
   ]
  },
  {
   "cell_type": "markdown",
   "id": "bbd8bd71",
   "metadata": {},
   "source": [
    "## Execution Time Distribution\n",
    "Understanding how fast the system responds to user input."
   ]
  },
  {
   "cell_type": "code",
   "execution_count": 10,
   "id": "60f5607b",
   "metadata": {},
   "outputs": [],
   "source": [
    "if 'ExecutionTime' in df.columns:\n",
    "    plt.figure(figsize=(10, 6))\n",
    "    sns.histplot(df['ExecutionTime'], kde=True, color='skyblue')\n",
    "    plt.title('Execution Time Distribution')\n",
    "    plt.xlabel('Time (seconds)')\n",
    "    plt.ylabel('Frequency')\n",
    "    plt.show()"
   ]
  },
  {
   "cell_type": "markdown",
   "id": "c8c905d8",
   "metadata": {},
   "source": [
    "## Distance Error Visualization\n",
    "Evaluating how closely the arm reaches the target point."
   ]
  },
  {
   "cell_type": "code",
   "execution_count": 11,
   "id": "7deff08f",
   "metadata": {},
   "outputs": [
    {
     "data": {
      "image/png": "[encoded data removed]",
      "text/plain": [
       "<Figure size 1000x600 with 1 Axes>"
      ]
     },
     "metadata": {},
     "output_type": "display_data"
    }
   ],
   "source": [
    "if 'DistanceError' in df.columns:\n",
    "    plt.figure(figsize=(10, 6))\n",
    "    sns.histplot(df['DistanceError'], kde=True, color='lightgreen')\n",
    "    plt.title('Distance Error Distribution')\n",
    "    plt.xlabel('Error Distance (pixels)')\n",
    "    plt.ylabel('Frequency')\n",
    "    plt.show()"
   ]
  },
  {
   "cell_type": "markdown",
   "id": "d851aab1",
   "metadata": {},
   "source": [
    "## Interaction Type Usage\n",
    "Comparing number of requests from Form vs API."
   ]
  },
  {
   "cell_type": "code",
   "execution_count": 12,
   "id": "ec6a2100",
   "metadata": {},
   "outputs": [],
   "source": [
    "if 'InteractionType' in df.columns:\n",
    "    plt.figure(figsize=(6, 4))\n",
    "    sns.countplot(data=df, x='InteractionType', palette='pastel')\n",
    "    plt.title('Form vs API Usage')\n",
    "    plt.xlabel('Interaction Type')\n",
    "    plt.ylabel('Count')\n",
    "    plt.show()"
   ]
  },
  {
   "cell_type": "markdown",
   "id": "c9c7f6ac",
   "metadata": {},
   "source": [
    "## Execution Time Over Time\n",
    "Analyzing how execution time varies day by day."
   ]
  },
  {
   "cell_type": "code",
   "execution_count": 13,
   "id": "25a81a40",
   "metadata": {},
   "outputs": [],
   "source": [
    "if 'Date' in df.columns and 'ExecutionTime' in df.columns:\n",
    "    daily_avg = df.groupby('Date')['ExecutionTime'].mean()\n",
    "    plt.figure(figsize=(10, 5))\n",
    "    daily_avg.plot(marker='o')\n",
    "    plt.title('Average Execution Time per Day')\n",
    "    plt.xlabel('Date')\n",
    "    plt.ylabel('Avg Execution Time (s)')\n",
    "    plt.grid(True)\n",
    "    plt.show()"
   ]
  }
 ],
 "metadata": {
  "kernelspec": {
   "display_name": "Python 3",
   "language": "python",
   "name": "python3"
  },
  "language_info": {
   "codemirror_mode": {
    "name": "ipython",
    "version": 3
   },
   "file_extension": ".py",
   "mimetype": "text/x-python",
   "name": "python",
   "nbconvert_exporter": "python",
   "pygments_lexer": "ipython3",
   "version": "3.12.5"
  }
 },
 "nbformat": 4,
 "nbformat_minor": 5
}
