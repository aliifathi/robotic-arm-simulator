{
 "cells": [
  {
   "cell_type": "markdown",
   "id": "60808646",
   "metadata": {},
   "source": [
    "# Robotic Arm Simulator - Enhanced Data Analysis\n",
    "This notebook includes advanced visualizations and interpretation for user input data and system performance."
   ]
  },
  {
   "cell_type": "code",
   "execution_count": null,
   "id": "61070016",
   "metadata": {},
   "outputs": [],
   "source": [
    "import pandas as pd\n",
    "import matplotlib.pyplot as plt\n",
    "import seaborn as sns\n",
    "import numpy as np\n",
    "\n",
    "sns.set(style='whitegrid')\n",
    "df = pd.read_csv(\"results_cleaned.csv\")\n",
    "df[\"Timestamp\"] = pd.to_datetime(df[\"Timestamp\"])\n",
    "df[\"Date\"] = df[\"Timestamp\"].dt.date\n",
    "df.head()"
   ]
  },
  {
   "cell_type": "markdown",
   "id": "4a065d17",
   "metadata": {},
   "source": [
    "## Daily Submissions Trend"
   ]
  },
  {
   "cell_type": "code",
   "execution_count": null,
   "id": "1430d9e2",
   "metadata": {},
   "outputs": [],
   "source": [
    "daily_usage = df.groupby(\"Date\").size().reset_index(name=\"Submissions\")\n",
    "plt.figure(figsize=(10, 5))\n",
    "sns.lineplot(data=daily_usage, x=\"Date\", y=\"Submissions\", marker=\"o\")\n",
    "plt.title(\"Daily Submissions to Robotic Arm Simulator\")\n",
    "plt.xlabel(\"Date\")\n",
    "plt.ylabel(\"Number of Submissions\")\n",
    "plt.xticks(rotation=45)\n",
    "plt.tight_layout()\n",
    "plt.grid(True)\n",
    "plt.show()"
   ]
  },
  {
   "cell_type": "markdown",
   "id": "438b5d13",
   "metadata": {},
   "source": [
    "## Heatmap of Input Coordinates"
   ]
  },
  {
   "cell_type": "code",
   "execution_count": null,
   "id": "13f6732e",
   "metadata": {},
   "outputs": [],
   "source": [
    "plt.figure(figsize=(8, 6))\n",
    "sns.kdeplot(data=df, x=\"X\", y=\"Y\", fill=True, cmap=\"Blues\", levels=100)\n",
    "plt.title(\"Heatmap of Input Positions (X, Y)\")\n",
    "plt.xlabel(\"X Coordinate\")\n",
    "plt.ylabel(\"Y Coordinate\")\n",
    "plt.grid(True)\n",
    "plt.tight_layout()\n",
    "plt.show()"
   ]
  },
  {
   "cell_type": "markdown",
   "id": "29ad24f0",
   "metadata": {},
   "source": [
    "## Execution Time vs. Distance Error"
   ]
  },
  {
   "cell_type": "code",
   "execution_count": null,
   "id": "f2bf0de8",
   "metadata": {},
   "outputs": [],
   "source": [
    "plt.figure(figsize=(8, 6))\n",
    "sns.scatterplot(data=df, x=\"Execution_Time\", y=\"Distance_Error\", hue=\"Success\", palette=\"coolwarm\")\n",
    "plt.title(\"Execution Time vs. Distance Error\")\n",
    "plt.xlabel(\"Execution Time (ms)\")\n",
    "plt.ylabel(\"Distance Error\")\n",
    "plt.grid(True)\n",
    "plt.tight_layout()\n",
    "plt.show()"
   ]
  },
  {
   "cell_type": "markdown",
   "id": "846316a8",
   "metadata": {},
   "source": [
    "## Submission Success Distribution"
   ]
  },
  {
   "cell_type": "code",
   "execution_count": null,
   "id": "91e75fdb",
   "metadata": {},
   "outputs": [],
   "source": [
    "plt.figure(figsize=(8, 6))\n",
    "sns.histplot(df, x=\"Execution_Time\", hue=\"Success\", multiple=\"stack\", palette=\"Set2\", bins=20)\n",
    "plt.title(\"Distribution of Execution Time by Submission Success\")\n",
    "plt.xlabel(\"Execution Time (ms)\")\n",
    "plt.ylabel(\"Submission Count\")\n",
    "plt.tight_layout()\n",
    "plt.grid(True)\n",
    "plt.show()"
   ]
  }
 ],
 "metadata": {
  "kernelspec": {
   "display_name": "Python 3",
   "language": "python",
   "name": "python3"
  }
 },
 "nbformat": 4,
 "nbformat_minor": 5
}
